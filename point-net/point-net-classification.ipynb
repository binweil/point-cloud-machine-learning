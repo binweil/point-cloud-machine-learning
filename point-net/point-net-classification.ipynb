{
 "cells": [
  {
   "cell_type": "markdown",
   "id": "d4816a0b",
   "metadata": {},
   "source": [
    "### Library Explanation\n",
    "\n",
    "| Name | Description|\n",
    "|---|---|\n",
    "| sys | System-specific parameters and functions |\n",
    "| sys.path.insert(0, './src') | Adding the python scripts in \"./src\" folder to system env variable |\n",
    "| os | Miscellaneous operating system interfaces |\n",
    "| Tensorflow | TensorFlow provides a collection of workflows to develop and train models using Python or JavaScript, and to easily deploy in the cloud, on-prem, in the browser, or on-device no matter what language you use |\n",
    "| matplotlib | Matplotlib is a comprehensive library for creating static, animated, and interactive visualizations in Python. Matplotlib makes easy things easy and hard things possible |\n",
    "\n",
    "#### DataSetsLoader\n",
    "Self-defined class for downloading and processing the point cloud datasets. Defined in ./src/DataSetsLoader.py\n",
    "\n",
    "#### PointNetFactory\n",
    "Self-defined class for creating the PointNet model. Defined in ./src/PointNetFactory.py"
   ]
  },
  {
   "cell_type": "code",
   "execution_count": 3,
   "id": "742504e2",
   "metadata": {},
   "outputs": [
    {
     "name": "stdout",
     "output_type": "stream",
     "text": [
      "Looking in indexes: https://pypi.org/simple, https://pip.repos.neuron.amazonaws.com\n",
      "Requirement already satisfied: trimesh in /home/ec2-user/anaconda3/envs/tensorflow2_p38/lib/python3.8/site-packages (3.13.5)\n",
      "Requirement already satisfied: numpy in /home/ec2-user/anaconda3/envs/tensorflow2_p38/lib/python3.8/site-packages (from trimesh) (1.20.3)\n",
      "\u001b[33mWARNING: You are using pip version 22.0.4; however, version 22.2.2 is available.\n",
      "You should consider upgrading via the '/home/ec2-user/anaconda3/envs/tensorflow2_p38/bin/python -m pip install --upgrade pip' command.\u001b[0m\u001b[33m\n",
      "\u001b[0m"
     ]
    }
   ],
   "source": [
    "!pip install trimesh\n",
    "# importing sys\n",
    "import sys\n",
    "# adding src to the system path\n",
    "sys.path.insert(0, './src')\n",
    "\n",
    "import os\n",
    "import tensorflow as tf\n",
    "from tensorflow import keras\n",
    "from matplotlib import pyplot as plt\n",
    "from DataSetsLoader import DataSetsLoader\n",
    "from PointNetFactory import PointNetFactory"
   ]
  },
  {
   "cell_type": "markdown",
   "id": "983e3433",
   "metadata": {},
   "source": [
    "### Definition of the Global Variables\n",
    "* NUM_POINTS: The sampling rate for each point cloud in the dataset\n",
    "* NUM_CLASSES: The number of total classes in the dataset. ex. ModelNet10 has 10 classes.\n",
    "* NUM_POINT_AXIS: In each point cloud, we only have x,y,z, so there are 3 axis. If we add RGB into the point cloud, then we have x,y,z,r,g,b, which is 6 axis\n",
    "* BATCH_SIZE: The number of data in each training batch."
   ]
  },
  {
   "cell_type": "code",
   "execution_count": 4,
   "id": "d14e75ba",
   "metadata": {},
   "outputs": [
    {
     "name": "stdout",
     "output_type": "stream",
     "text": [
      "GPUs Available:  [PhysicalDevice(name='/physical_device:GPU:0', device_type='GPU')]\n"
     ]
    }
   ],
   "source": [
    "# Global variables\n",
    "NUM_POINTS = 2048\n",
    "NUM_CLASSES = 10\n",
    "NUM_POINT_AXIS = 3\n",
    "BATCH_SIZE = 32\n",
    "\n",
    "# Use hardware accelerator for training\n",
    "physical_devices = tf.config.experimental.list_physical_devices(\"GPU\")\n",
    "print(\"GPUs Available: \", physical_devices)\n",
    "tf.config.experimental.set_memory_growth(physical_devices[0], True)"
   ]
  },
  {
   "cell_type": "code",
   "execution_count": null,
   "id": "3037e7fd",
   "metadata": {},
   "outputs": [
    {
     "name": "stdout",
     "output_type": "stream",
     "text": [
      "Downloading data from http://3dvision.princeton.edu/projects/2014/3DShapeNets/ModelNet10.zip\n",
      "473407488/473402300 [==============================] - 17s 0us/step\n",
      "473415680/473402300 [==============================] - 17s 0us/step\n",
      "processing class: bathtub\n",
      "processing class: bed\n",
      "processing class: chair\n"
     ]
    }
   ],
   "source": [
    "# Load Datasets\n",
    "datasets_loader = DataSetsLoader(use_internet=True)\n",
    "train_points, test_points, train_labels, test_labels, CLASS_MAP = datasets_loader.transform_to_tensorflow_dataset()"
   ]
  },
  {
   "cell_type": "code",
   "execution_count": null,
   "id": "8c0e3477",
   "metadata": {},
   "outputs": [],
   "source": [
    "# Shuffle and Augment Datasets\n",
    "def augment(points, label):\n",
    "        # jitter points\n",
    "        points += tf.random.uniform(points.shape, -0.005, 0.005, dtype=tf.float64)\n",
    "        # shuffle points\n",
    "        points = tf.random.shuffle(points)\n",
    "        return points, label\n",
    "\n",
    "\n",
    "train_dataset = tf.data.Dataset.from_tensor_slices((train_points, train_labels))\n",
    "test_dataset = tf.data.Dataset.from_tensor_slices((test_points, test_labels))\n",
    "\n",
    "train_dataset = train_dataset.shuffle(len(train_points)).map(augment).batch(BATCH_SIZE)\n",
    "test_dataset = test_dataset.shuffle(len(test_points)).batch(BATCH_SIZE)"
   ]
  },
  {
   "cell_type": "code",
   "execution_count": null,
   "id": "7916b612",
   "metadata": {},
   "outputs": [],
   "source": [
    "point_net_factory = PointNetFactory()"
   ]
  },
  {
   "cell_type": "code",
   "execution_count": null,
   "id": "fdc2fdb9",
   "metadata": {},
   "outputs": [],
   "source": [
    "# Build the PointNet model\n",
    "model = point_net_factory.create_model(NUM_POINTS, NUM_POINT_AXIS, NUM_CLASSES)\n",
    "# model.summary()"
   ]
  },
  {
   "cell_type": "code",
   "execution_count": null,
   "id": "d3b969c5",
   "metadata": {},
   "outputs": [],
   "source": [
    "# Train Model\n",
    "model.compile(\n",
    "    loss=\"sparse_categorical_crossentropy\",\n",
    "    optimizer=keras.optimizers.Adam(learning_rate=0.001),\n",
    "    metrics=[\"sparse_categorical_accuracy\"],\n",
    ")\n",
    "\n",
    "model.fit(train_dataset, epochs=20, validation_data=test_dataset)"
   ]
  },
  {
   "cell_type": "code",
   "execution_count": null,
   "id": "4602344f",
   "metadata": {},
   "outputs": [],
   "source": [
    "# Save Model\n",
    "model.save_weights(\"./model.h5\")\n",
    "\n",
    "# Load Model\n",
    "new_model = point_net_factory.create_model(NUM_POINTS, NUM_POINT_AXIS, NUM_CLASSES)\n",
    "new_model.load_weights(\"./model.h5\")"
   ]
  },
  {
   "cell_type": "code",
   "execution_count": null,
   "id": "d3ce1507",
   "metadata": {},
   "outputs": [],
   "source": [
    "# Predict Results\n",
    "data = test_dataset.take(1)\n",
    "\n",
    "points, labels = list(data)[0]\n",
    "points = points[:10, ...]\n",
    "labels = labels[:10, ...]\n",
    "\n",
    "# run test data through model\n",
    "preds = new_model.predict(points)\n",
    "preds = tf.math.argmax(preds, -1)\n",
    "\n",
    "points = points.numpy()\n",
    "\n",
    "# plot points with predicted class and label\n",
    "fig = plt.figure(figsize=(15, 10))\n",
    "for i in range(10):\n",
    "    ax = fig.add_subplot(2, 5, i + 1, projection=\"3d\")\n",
    "    ax.scatter(points[i, :, 0], points[i, :, 1], points[i, :, 2])\n",
    "    ax.set_title(\n",
    "        \"pred: {:}, label: {:}\".format(\n",
    "            CLASS_MAP[preds[i].numpy()], CLASS_MAP[labels.numpy()[i]]\n",
    "        )\n",
    "    )\n",
    "    ax.set_axis_off()\n",
    "plt.show()"
   ]
  },
  {
   "cell_type": "code",
   "execution_count": null,
   "id": "95b1fa28",
   "metadata": {},
   "outputs": [],
   "source": [
    "dataset = test_dataset\n",
    "total_count = 0\n",
    "correct_count = 0\n",
    "\n",
    "for element in dataset.as_numpy_iterator():\n",
    "    points = element[0]\n",
    "    labels = element[1]\n",
    "    pred = model.predict(points)\n",
    "    pred = tf.math.argmax(pred, -1)\n",
    "    for index, point in enumerate(points):\n",
    "        pred = model.predict(points)\n",
    "        pred = tf.math.argmax(pred, -1)\n",
    "        total_count += 1\n",
    "        if labels[index] == pred[index]:\n",
    "            correct_count += 1\n",
    "            \n",
    "accuracy  = correct_count / total_count\n",
    "print(\"Accuracy  is {}\".format(accuracy))"
   ]
  },
  {
   "cell_type": "code",
   "execution_count": null,
   "id": "f158ae64",
   "metadata": {},
   "outputs": [],
   "source": []
  }
 ],
 "metadata": {
  "kernelspec": {
   "display_name": "conda_tensorflow2_p38",
   "language": "python",
   "name": "conda_tensorflow2_p38"
  },
  "language_info": {
   "codemirror_mode": {
    "name": "ipython",
    "version": 3
   },
   "file_extension": ".py",
   "mimetype": "text/x-python",
   "name": "python",
   "nbconvert_exporter": "python",
   "pygments_lexer": "ipython3",
   "version": "3.8.12"
  }
 },
 "nbformat": 4,
 "nbformat_minor": 5
}
