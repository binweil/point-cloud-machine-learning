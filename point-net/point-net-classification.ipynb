{
 "cells": [
  {
   "cell_type": "code",
   "execution_count": 2,
   "id": "3623c404",
   "metadata": {},
   "outputs": [
    {
     "name": "stdout",
     "output_type": "stream",
     "text": [
      "Looking in indexes: https://pypi.org/simple, https://pip.repos.neuron.amazonaws.com\n",
      "Collecting trimesh\n",
      "  Downloading trimesh-3.13.5-py3-none-any.whl (660 kB)\n",
      "\u001b[2K     \u001b[90m━━━━━━━━━━━━━━━━━━━━━━━━━━━━━━━━━━━━━━\u001b[0m \u001b[32m660.9/660.9 KB\u001b[0m \u001b[31m28.2 MB/s\u001b[0m eta \u001b[36m0:00:00\u001b[0m\n",
      "\u001b[?25hRequirement already satisfied: numpy in /home/ec2-user/anaconda3/envs/tensorflow2_p38/lib/python3.8/site-packages (from trimesh) (1.20.3)\n",
      "Installing collected packages: trimesh\n",
      "Successfully installed trimesh-3.13.5\n",
      "\u001b[33mWARNING: You are using pip version 22.0.4; however, version 22.2.2 is available.\n",
      "You should consider upgrading via the '/home/ec2-user/anaconda3/envs/tensorflow2_p38/bin/python -m pip install --upgrade pip' command.\u001b[0m\u001b[33m\n",
      "\u001b[0m"
     ]
    }
   ],
   "source": [
    "!pip install trimesh\n",
    "\n",
    "# importing sys\n",
    "import sys\n",
    "# adding src to the system path\n",
    "sys.path.insert(0, './src')\n",
    "\n",
    "import os\n",
    "import tensorflow as tf\n",
    "from tensorflow import keras\n",
    "from matplotlib import pyplot as plt\n",
    "from DataSetsLoader import DataSetsLoader\n",
    "from PointNetFactory import PointNetFactory"
   ]
  },
  {
   "cell_type": "code",
   "execution_count": null,
   "id": "b5086418",
   "metadata": {},
   "outputs": [],
   "source": [
    "# Global variables\n",
    "NUM_POINTS = 2048\n",
    "NUM_CLASSES = 10\n",
    "NUM_POINT_AXIS = 3\n",
    "BATCH_SIZE = 32\n",
    "\n",
    "# Use hardware accelerator for training\n",
    "physical_devices = tf.config.experimental.list_physical_devices(\"GPU\")\n",
    "print(\"GPUs Available: \", physical_devices)\n",
    "tf.config.experimental.set_memory_growth(physical_devices[0], True)"
   ]
  },
  {
   "cell_type": "code",
   "execution_count": null,
   "id": "5454767f",
   "metadata": {},
   "outputs": [],
   "source": [
    "# Load Datasets\n",
    "datasets_loader = DataSetsLoader()\n",
    "train_points, test_points, train_labels, test_labels, CLASS_MAP = datasets_loader.transform_to_tensorflow_dataset()"
   ]
  },
  {
   "cell_type": "code",
   "execution_count": null,
   "id": "80f60826",
   "metadata": {},
   "outputs": [],
   "source": [
    "# Shuffle and Augment Datasets\n",
    "def augment(points, label):\n",
    "        # jitter points\n",
    "        points += tf.random.uniform(points.shape, -0.005, 0.005, dtype=tf.float64)\n",
    "        # shuffle points\n",
    "        points = tf.random.shuffle(points)\n",
    "        return points, label\n",
    "\n",
    "\n",
    "train_dataset = tf.data.Dataset.from_tensor_slices((train_points, train_labels))\n",
    "test_dataset = tf.data.Dataset.from_tensor_slices((test_points, test_labels))\n",
    "\n",
    "train_dataset = train_dataset.shuffle(len(train_points)).map(augment).batch(BATCH_SIZE)\n",
    "test_dataset = test_dataset.shuffle(len(test_points)).batch(BATCH_SIZE)"
   ]
  },
  {
   "cell_type": "code",
   "execution_count": null,
   "id": "1c111508",
   "metadata": {},
   "outputs": [],
   "source": [
    "point_net_factory = PointNetFactory()"
   ]
  },
  {
   "cell_type": "code",
   "execution_count": null,
   "id": "3fc2b5ea",
   "metadata": {},
   "outputs": [],
   "source": [
    "# Build the PointNet model\n",
    "model = point_net_factory.create_model(NUM_POINTS, NUM_POINT_AXIS, NUM_CLASSES)\n",
    "# model.summary()"
   ]
  },
  {
   "cell_type": "code",
   "execution_count": null,
   "id": "92645fdf",
   "metadata": {},
   "outputs": [],
   "source": [
    "# Train Model\n",
    "model.compile(\n",
    "    loss=\"sparse_categorical_crossentropy\",\n",
    "    optimizer=keras.optimizers.Adam(learning_rate=0.001),\n",
    "    metrics=[\"sparse_categorical_accuracy\"],\n",
    ")\n",
    "\n",
    "model.fit(train_dataset, epochs=20, validation_data=test_dataset)"
   ]
  },
  {
   "cell_type": "code",
   "execution_count": null,
   "id": "ed9710c1",
   "metadata": {},
   "outputs": [],
   "source": [
    "# Save Model\n",
    "model.save_weights(\"./model.h5\")\n",
    "\n",
    "# Load Model\n",
    "new_model = point_net_factory.create_model(NUM_POINTS, NUM_POINT_AXIS, NUM_CLASSES)\n",
    "new_model.load_weights(\"./model.h5\")"
   ]
  },
  {
   "cell_type": "code",
   "execution_count": null,
   "id": "5b4f2ccd",
   "metadata": {},
   "outputs": [],
   "source": [
    "# Predict Results\n",
    "data = test_dataset.take(1)\n",
    "\n",
    "points, labels = list(data)[0]\n",
    "points = points[:10, ...]\n",
    "labels = labels[:10, ...]\n",
    "\n",
    "# run test data through model\n",
    "preds = new_model.predict(points)\n",
    "preds = tf.math.argmax(preds, -1)\n",
    "\n",
    "points = points.numpy()\n",
    "\n",
    "# plot points with predicted class and label\n",
    "fig = plt.figure(figsize=(15, 10))\n",
    "for i in range(10):\n",
    "    ax = fig.add_subplot(2, 5, i + 1, projection=\"3d\")\n",
    "    ax.scatter(points[i, :, 0], points[i, :, 1], points[i, :, 2])\n",
    "    ax.set_title(\n",
    "        \"pred: {:}, label: {:}\".format(\n",
    "            CLASS_MAP[preds[i].numpy()], CLASS_MAP[labels.numpy()[i]]\n",
    "        )\n",
    "    )\n",
    "    ax.set_axis_off()\n",
    "plt.show()"
   ]
  },
  {
   "cell_type": "code",
   "execution_count": null,
   "id": "a4ab29e9",
   "metadata": {},
   "outputs": [],
   "source": []
  }
 ],
 "metadata": {
  "kernelspec": {
   "display_name": "conda_tensorflow2_p38",
   "language": "python",
   "name": "conda_tensorflow2_p38"
  },
  "language_info": {
   "codemirror_mode": {
    "name": "ipython",
    "version": 3
   },
   "file_extension": ".py",
   "mimetype": "text/x-python",
   "name": "python",
   "nbconvert_exporter": "python",
   "pygments_lexer": "ipython3",
   "version": "3.8.12"
  }
 },
 "nbformat": 4,
 "nbformat_minor": 5
}
