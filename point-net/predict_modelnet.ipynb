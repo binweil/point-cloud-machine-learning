{
 "cells": [
  {
   "cell_type": "code",
   "execution_count": 1,
   "id": "b89080be",
   "metadata": {},
   "outputs": [
    {
     "name": "stderr",
     "output_type": "stream",
     "text": [
      "C:\\Users\\binwe\\anaconda3\\envs\\tensorflow26_p39\\lib\\site-packages\\scipy\\__init__.py:146: UserWarning: A NumPy version >=1.16.5 and <1.23.0 is required for this version of SciPy (detected version 1.23.1\n",
      "  warnings.warn(f\"A NumPy version >={np_minversion} and <{np_maxversion}\"\n"
     ]
    }
   ],
   "source": [
    "# importing sys\n",
    "import sys\n",
    "# adding src to the system path\n",
    "sys.path.insert(0, './src')\n",
    "\n",
    "import os\n",
    "import tensorflow as tf\n",
    "from tensorflow import keras\n",
    "from matplotlib import pyplot as plt\n",
    "from DataSetsLoader import DataSetsLoader\n",
    "from PointNetFactory import PointNetFactory"
   ]
  },
  {
   "cell_type": "code",
   "execution_count": 3,
   "id": "9565c2e6",
   "metadata": {},
   "outputs": [],
   "source": [
    "# Global variables\n",
    "NUM_POINTS = 2048\n",
    "NUM_CLASSES = 10\n",
    "NUM_POINT_AXIS = 3\n",
    "BATCH_SIZE = 32\n",
    "\n",
    "# Load Model\n",
    "point_net_factory = PointNetFactory()\n",
    "model = point_net_factory.create_model(NUM_POINTS, NUM_POINT_AXIS, NUM_CLASSES)\n",
    "model.load_weights(\"./model.h5\")"
   ]
  },
  {
   "cell_type": "code",
   "execution_count": 4,
   "id": "47a5c1c3",
   "metadata": {},
   "outputs": [
    {
     "name": "stdout",
     "output_type": "stream",
     "text": [
      "processing class: bathtub\n",
      "processing class: bed\n",
      "processing class: chair\n",
      "processing class: night_stand\n",
      "processing class: sofa\n",
      "processing class: table\n",
      "processing class: toilet\n"
     ]
    }
   ],
   "source": [
    "# Load Datasets\n",
    "datasets_loader = DataSetsLoader()\n",
    "train_points, test_points, train_labels, test_labels, CLASS_MAP = datasets_loader.transform_to_tensorflow_dataset()"
   ]
  },
  {
   "cell_type": "code",
   "execution_count": 81,
   "id": "e72ef3f7",
   "metadata": {},
   "outputs": [],
   "source": [
    "# Shuffle and Augment Datasets\n",
    "def augment(points, label):\n",
    "        # jitter points\n",
    "        points += tf.random.uniform(points.shape, -0.005, 0.005, dtype=tf.float64)\n",
    "        # shuffle points\n",
    "        points = tf.random.shuffle(points)\n",
    "        return points, label\n",
    "\n",
    "\n",
    "train_dataset = tf.data.Dataset.from_tensor_slices((train_points, train_labels))\n",
    "test_dataset = tf.data.Dataset.from_tensor_slices((test_points, test_labels))\n",
    "\n",
    "train_dataset = train_dataset.shuffle(len(train_points)).map(augment).batch(BATCH_SIZE)\n",
    "test_dataset = test_dataset.shuffle(len(test_points)).batch(BATCH_SIZE)"
   ]
  },
  {
   "cell_type": "code",
   "execution_count": 91,
   "id": "1c000161",
   "metadata": {},
   "outputs": [
    {
     "name": "stdout",
     "output_type": "stream",
     "text": [
      "Accuracy  is 0.8160377358490566\n"
     ]
    }
   ],
   "source": [
    "dataset = test_dataset\n",
    "total_count = 0\n",
    "correct_count = 0\n",
    "\n",
    "for element in dataset.as_numpy_iterator():\n",
    "    points = element[0]\n",
    "    labels = element[1]\n",
    "    pred = model.predict(points)\n",
    "    pred = tf.math.argmax(pred, -1)\n",
    "    for index, point in enumerate(points):\n",
    "        pred = model.predict(points)\n",
    "        pred = tf.math.argmax(pred, -1)\n",
    "        total_count += 1\n",
    "        if labels[index] == pred[index]:\n",
    "            correct_count += 1\n",
    "            \n",
    "accuracy  = correct_count / total_count\n",
    "print(\"Accuracy  is {}\".format(accuracy))"
   ]
  },
  {
   "cell_type": "code",
   "execution_count": null,
   "id": "6bd907eb",
   "metadata": {},
   "outputs": [],
   "source": []
  }
 ],
 "metadata": {
  "kernelspec": {
   "display_name": "Python 3 (ipykernel)",
   "language": "python",
   "name": "python3"
  },
  "language_info": {
   "codemirror_mode": {
    "name": "ipython",
    "version": 3
   },
   "file_extension": ".py",
   "mimetype": "text/x-python",
   "name": "python",
   "nbconvert_exporter": "python",
   "pygments_lexer": "ipython3",
   "version": "3.9.12"
  }
 },
 "nbformat": 4,
 "nbformat_minor": 5
}
